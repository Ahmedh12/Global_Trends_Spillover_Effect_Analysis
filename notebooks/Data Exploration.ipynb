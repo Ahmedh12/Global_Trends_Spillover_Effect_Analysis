{
 "cells": [
  {
   "cell_type": "code",
   "execution_count": 1,
   "id": "de5f5d51-0aa1-40b4-b775-c077d3fd47ef",
   "metadata": {},
   "outputs": [],
   "source": [
    "import sys\n",
    "sys.path.append('..')"
   ]
  },
  {
   "cell_type": "code",
   "execution_count": 2,
   "id": "0bce146d-7e66-49e3-8391-87053c986398",
   "metadata": {},
   "outputs": [],
   "source": [
    "from data.util import *"
   ]
  },
  {
   "cell_type": "code",
   "execution_count": 14,
   "id": "937c230e-ba7a-4bd4-830e-471870345863",
   "metadata": {},
   "outputs": [],
   "source": [
    "dow_johnes = load_data_from_folder(DATA_FOLDERS[0])\n",
    "ftse_100 = load_data_from_folder(DATA_FOLDERS[1])\n",
    "nikkei_225 = load_data_from_folder(DATA_FOLDERS[2])\n",
    "sp_500 = load_data_from_folder(DATA_FOLDERS[3])\n",
    "EGX_30 = load_data_from_folder(DATA_FOLDERS[4])\n",
    "\n",
    "dfs = [\n",
    "    dow_johnes,\n",
    "    ftse_100,\n",
    "    nikkei_225,\n",
    "    sp_500,\n",
    "    EGX_30]"
   ]
  },
  {
   "cell_type": "code",
   "execution_count": 16,
   "id": "47bd7f85-8460-4783-abd6-35e116af0daa",
   "metadata": {},
   "outputs": [
    {
     "name": "stdout",
     "output_type": "stream",
     "text": [
      "root\n",
      " |-- Date: string (nullable = true)\n",
      " |-- Close: double (nullable = true)\n",
      " |-- High: double (nullable = true)\n",
      " |-- Low: double (nullable = true)\n",
      " |-- Open: double (nullable = true)\n",
      " |-- Volume: double (nullable = true)\n",
      "\n",
      "root\n",
      " |-- Date: string (nullable = true)\n",
      " |-- Close: double (nullable = true)\n",
      " |-- High: double (nullable = true)\n",
      " |-- Low: double (nullable = true)\n",
      " |-- Open: double (nullable = true)\n",
      " |-- Volume: double (nullable = true)\n",
      "\n",
      "root\n",
      " |-- Date: string (nullable = true)\n",
      " |-- Close: double (nullable = true)\n",
      " |-- High: double (nullable = true)\n",
      " |-- Low: double (nullable = true)\n",
      " |-- Open: double (nullable = true)\n",
      " |-- Volume: double (nullable = true)\n",
      "\n",
      "root\n",
      " |-- Date: string (nullable = true)\n",
      " |-- Close: double (nullable = true)\n",
      " |-- High: double (nullable = true)\n",
      " |-- Low: double (nullable = true)\n",
      " |-- Open: double (nullable = true)\n",
      " |-- Volume: double (nullable = true)\n",
      "\n",
      "root\n",
      " |-- Date: string (nullable = true)\n",
      " |-- Close: double (nullable = true)\n",
      " |-- Open: double (nullable = true)\n",
      " |-- High: double (nullable = true)\n",
      " |-- Low: double (nullable = true)\n",
      " |-- Volume: double (nullable = true)\n",
      "\n"
     ]
    }
   ],
   "source": [
    "for df in dfs:\n",
    "    df = cast_columns_to_double(df)\n",
    "    df.printSchema()"
   ]
  },
  {
   "cell_type": "code",
   "execution_count": 5,
   "id": "c7d65e15-d80d-492e-96ac-40652465e568",
   "metadata": {},
   "outputs": [
    {
     "name": "stdout",
     "output_type": "stream",
     "text": [
      "dow_johnes: \n",
      "+-------+----------+------------------+-----------------+------------------+------------------+--------------------+\n",
      "|summary|      Date|             Close|             High|               Low|              Open|              Volume|\n",
      "+-------+----------+------------------+-----------------+------------------+------------------+--------------------+\n",
      "|  count|      3522|              3522|             3522|              3522|              3522|                3522|\n",
      "|   mean|      NULL|21712.507973596767|21825.74421354832|21584.509138983532|21707.796203439986| 2.384138358886996E8|\n",
      "| stddev|      NULL| 8037.528384265559|8081.914849522401| 7991.416107733758| 8037.466348928835|1.3382979847076967E8|\n",
      "|    min|2010-01-04|     9686.48046875|  9770.8701171875|      9614.3203125|     9686.48046875|           8410000.0|\n",
      "|    max|2023-12-29|     37710.1015625|    37778.8515625|    37650.98046875|    37701.62890625|            9.1599E8|\n",
      "+-------+----------+------------------+-----------------+------------------+------------------+--------------------+\n",
      "\n",
      "ftse_100: \n",
      "+-------+----------+-----------------+-----------------+-----------------+-----------------+-------------------+\n",
      "|summary|      Date|            Close|             High|              Low|             Open|             Volume|\n",
      "+-------+----------+-----------------+-----------------+-----------------+-----------------+-------------------+\n",
      "|  count|      3532|             3532|             3532|             3532|             3532|               3532|\n",
      "|   mean|      NULL|6669.900338368399|6709.226618489215| 6628.67605110419|6669.261408804767|8.080090285107588E8|\n",
      "| stddev|      NULL|731.7587723483483| 727.110689310151|737.3657394020474|731.8466185229412|2.743113968524896E8|\n",
      "|    min|2010-01-04|  4805.7998046875| 4863.39990234375|           4790.0|  4805.7998046875|        1.0000219E9|\n",
      "|    max|2023-12-29|  8014.2998046875| 8047.10009765625|           7995.5|  8014.2998046875|         9.999569E8|\n",
      "+-------+----------+-----------------+-----------------+-----------------+-----------------+-------------------+\n",
      "\n",
      "nikkei_225: \n",
      "+-------+----------+------------------+------------------+------------------+-----------------+--------------------+\n",
      "|summary|      Date|             Close|              High|               Low|             Open|              Volume|\n",
      "+-------+----------+------------------+------------------+------------------+-----------------+--------------------+\n",
      "|  count|      3425|              3425|              3425|              3425|             3425|                3425|\n",
      "|   mean|      NULL|19096.420247063183|19199.961642335766|18987.291409814097|19097.57171319001|1.1570151824817519E8|\n",
      "| stddev|      NULL| 6948.470418165261| 6977.763070418871| 6913.206278098296|6946.871004733547| 5.508163523126674E7|\n",
      "|    min|2010-01-04|  10004.2001953125|          10005.75|  10009.3701171875| 10007.4697265625|                 0.0|\n",
      "|    max|2023-12-29|    9999.400390625|    9998.490234375|     9999.58984375|          9987.25|               9.9E7|\n",
      "+-------+----------+------------------+------------------+------------------+-----------------+--------------------+\n",
      "\n",
      "sp_500: \n",
      "+-------+----------+------------------+------------------+------------------+------------------+--------------------+\n",
      "|summary|      Date|             Close|              High|               Low|              Open|              Volume|\n",
      "+-------+----------+------------------+------------------+------------------+------------------+--------------------+\n",
      "|  count|      3522|              3522|              3522|              3522|              3522|                3522|\n",
      "|   mean|      NULL|2535.0920352794988|2548.3983932746396|2519.7367999083885| 2534.540219776472|3.9410318710959682E9|\n",
      "| stddev|      NULL|1070.5168290747235| 1076.721030449953|1063.8240657682516|1070.3778360651315| 9.621444574679755E8|\n",
      "|    min|2010-01-04|1022.5800170898438| 1032.949951171875|1010.9099731445312|1027.6500244140625|             1.025E9|\n",
      "|    max|2023-12-29|  4796.56005859375|   4818.6201171875|  4780.97998046875|    4804.509765625|           9.97652E9|\n",
      "+-------+----------+------------------+------------------+------------------+------------------+--------------------+\n",
      "\n",
      "EGX_30: \n",
      "+-------+----------+------------------+------------------+------------------+------------------+--------------------+\n",
      "|summary|      Date|             Close|              Open|              High|               Low|              Volume|\n",
      "+-------+----------+------------------+------------------+------------------+------------------+--------------------+\n",
      "|  count|      3368|              3368|              3368|              3368|              3368|                3368|\n",
      "|   mean|      NULL|10191.460881828989|10188.005210807609|10260.547755344422|10127.904706057006|1.4562952790973872E8|\n",
      "| stddev|      NULL| 4235.628177646496| 4228.406365772353| 4270.730942980045| 4203.917966349593|1.0604052040568705E8|\n",
      "|    min|2010-01-04|          10007.51|          10007.51|           10000.3|          10029.14|            1.0003E8|\n",
      "|    max|2023-12-31|           9998.61|           9998.61|           9994.77|           9998.61|           9310000.0|\n",
      "+-------+----------+------------------+------------------+------------------+------------------+--------------------+\n",
      "\n"
     ]
    }
   ],
   "source": [
    "print(\"dow_johnes: \")\n",
    "dow_johnes.describe().show()\n",
    "print(\"ftse_100: \")\n",
    "ftse_100.describe().show()\n",
    "print(\"nikkei_225: \")\n",
    "nikkei_225.describe().show()\n",
    "print(\"sp_500: \")\n",
    "sp_500.describe().show()\n",
    "print(\"EGX_30: \")\n",
    "EGX_30.describe().show()"
   ]
  },
  {
   "cell_type": "code",
   "execution_count": 18,
   "id": "50621e33-70e7-46e8-a226-82d218d8e8bf",
   "metadata": {},
   "outputs": [],
   "source": [
    "dow_johnes = rename_columns(dow_johnes,Indices.dow_Jones.name)\n",
    "ftse_100 = rename_columns(ftse_100,Indices.ftse_100.name)\n",
    "nikkei_225 = rename_columns(nikkei_225,Indices.nikkei_225.name)\n",
    "sp_500 = rename_columns(sp_500,Indices.sp_500.name)\n",
    "EGX_30 = rename_columns(EGX_30,Indices.EGX_30.name)"
   ]
  },
  {
   "cell_type": "code",
   "execution_count": 28,
   "id": "9f7bd703-9963-46a2-989f-57375027d32f",
   "metadata": {},
   "outputs": [],
   "source": [
    "merged_df_outer_join = EGX_30.join(sp_500, \"Date\", \"outer\") \\\n",
    "                     .join(ftse_100, \"Date\", \"outer\") \\\n",
    "                     .join(nikkei_225, \"Date\", \"outer\") \\\n",
    "                     .join(dow_johnes, \"Date\", \"outer\") \n",
    "\n",
    "merged_df_outer_join.count()\n",
    "merged_df_outer_join = cast_columns_to_double(merged_df_outer_join)"
   ]
  },
  {
   "cell_type": "code",
   "execution_count": 29,
   "id": "7dc45f68-2942-4129-a097-2ffafda33a73",
   "metadata": {},
   "outputs": [
    {
     "name": "stdout",
     "output_type": "stream",
     "text": [
      "root\n",
      " |-- Date: string (nullable = true)\n",
      " |-- EGX_30_Close: double (nullable = true)\n",
      " |-- EGX_30_Open: double (nullable = true)\n",
      " |-- EGX_30_High: double (nullable = true)\n",
      " |-- EGX_30_Low: double (nullable = true)\n",
      " |-- EGX_30_Volume: double (nullable = true)\n",
      " |-- sp_500_Close: double (nullable = true)\n",
      " |-- sp_500_High: double (nullable = true)\n",
      " |-- sp_500_Low: double (nullable = true)\n",
      " |-- sp_500_Open: double (nullable = true)\n",
      " |-- sp_500_Volume: double (nullable = true)\n",
      " |-- ftse_100_Close: double (nullable = true)\n",
      " |-- ftse_100_High: double (nullable = true)\n",
      " |-- ftse_100_Low: double (nullable = true)\n",
      " |-- ftse_100_Open: double (nullable = true)\n",
      " |-- ftse_100_Volume: double (nullable = true)\n",
      " |-- nikkei_225_Close: double (nullable = true)\n",
      " |-- nikkei_225_High: double (nullable = true)\n",
      " |-- nikkei_225_Low: double (nullable = true)\n",
      " |-- nikkei_225_Open: double (nullable = true)\n",
      " |-- nikkei_225_Volume: double (nullable = true)\n",
      " |-- dow_Jones_Close: double (nullable = true)\n",
      " |-- dow_Jones_High: double (nullable = true)\n",
      " |-- dow_Jones_Low: double (nullable = true)\n",
      " |-- dow_Jones_Open: double (nullable = true)\n",
      " |-- dow_Jones_Volume: double (nullable = true)\n",
      "\n"
     ]
    }
   ],
   "source": [
    "merged_df_outer_join.printSchema()"
   ]
  },
  {
   "cell_type": "code",
   "execution_count": 32,
   "id": "09e4077b-006d-4336-9afd-d306467ea722",
   "metadata": {},
   "outputs": [],
   "source": [
    "merged_df_inner_join = EGX_30.join(sp_500, \"Date\", \"inner\") \\\n",
    "                     .join(ftse_100, \"Date\", \"inner\") \\\n",
    "                     .join(nikkei_225, \"Date\", \"inner\") \\\n",
    "                     .join(dow_johnes, \"Date\", \"inner\")\n",
    "merged_df_inner_join.count()\n",
    "merged_df_inner_join = cast_columns_to_double(merged_df_inner_join)"
   ]
  },
  {
   "cell_type": "code",
   "execution_count": 34,
   "id": "79102619-3682-4a76-9be6-c1ae2a413d38",
   "metadata": {},
   "outputs": [],
   "source": [
    "from pyspark.sql.window import Window  # Import Window for defining window specifications\n",
    "from pyspark.sql.functions import lag, col, when\n",
    "\n",
    "# Define a window specification\n",
    "window_spec = Window.partitionBy().orderBy(\"Date\")\n",
    "\n",
    "# Calculate daily returns for EGX_30\n",
    "EGX_30_df = EGX_30.withColumn(\n",
    "    \"daily_return\",\n",
    "    when(\n",
    "        lag(\"EGX_30_Close\", 1).over(window_spec).isNotNull(),\n",
    "        (col(\"EGX_30_Close\") - lag(\"EGX_30_Close\", 1).over(window_spec)) / lag(\"EGX_30_Close\", 1).over(window_spec)\n",
    "    ).otherwise(0)  # Replace null values with 0 or another default\n",
    ")"
   ]
  },
  {
   "cell_type": "code",
   "execution_count": 36,
   "id": "ba756718-00b7-4078-baef-2306d6800450",
   "metadata": {},
   "outputs": [
    {
     "name": "stdout",
     "output_type": "stream",
     "text": [
      "+----------+------------+-----------+-----------+----------+-------------------+--------------------+\n",
      "|      Date|EGX_30_Close|EGX_30_Open|EGX_30_High|EGX_30_Low|      EGX_30_Volume|        daily_return|\n",
      "+----------+------------+-----------+-----------+----------+-------------------+--------------------+\n",
      "|2010-01-04|      6323.9|    6274.82|    6333.31|   6272.61|            7.057E7|                 0.0|\n",
      "|2010-01-05|     6420.49|    6350.43|    6430.47|   6349.13|             5.75E7|0.015273802558547756|\n",
      "|2010-01-06|     6436.87|    6411.13|    6451.92|   6407.23|            8.615E7|0.002551207150856...|\n",
      "|2010-01-10|     6476.19|    6467.42|    6510.81|   6467.42|             6.99E7|0.006108558973538336|\n",
      "|2010-01-11|     6459.38|    6454.38|    6463.05|   6436.54|           1.0063E8|-0.00259566195556...|\n",
      "|2010-01-12|      6534.8|    6460.85|     6543.8|   6460.85|            7.383E7|0.011676043211577593|\n",
      "|2010-01-13|     6581.59|    6569.36|    6613.62|   6551.04|            8.591E7|0.007160127318357098|\n",
      "|2010-01-14|      6680.8|     6610.6|     6680.8|    6610.6|            7.793E7|0.015073865129854645|\n",
      "|2010-01-17|     6697.37|    6704.47|    6751.06|   6697.37|            7.424E7|0.002480241887199...|\n",
      "|2010-01-18|     6725.28|    6671.62|    6725.28|   6656.92|            7.951E7|0.004167307465467766|\n",
      "|2010-01-19|     6833.26|    6784.63|    6858.82|   6784.03|           1.1917E8| 0.01605583708038929|\n",
      "|2010-01-20|     6888.45|     6823.8|    6893.57|   6822.76|            7.552E7|0.008076672042334055|\n",
      "|2010-01-21|     6864.19|     6866.0|    6867.72|   6826.78|             9.38E7|-0.00352183727834...|\n",
      "|2010-01-24|     6657.42|     6777.8|     6777.8|   6657.42|             9.63E7|-0.03012300067451...|\n",
      "|2010-01-26|     6569.47|    6623.34|     6623.6|    6551.0|            6.645E7|-0.01321082341207...|\n",
      "|2010-01-27|     6586.67|    6569.92|    6593.33|   6558.31|            6.267E7|0.002618171633328...|\n",
      "|2010-01-28|     6696.07|     6636.0|    6698.83|    6636.0|            6.458E7| 0.01660930333537275|\n",
      "|2010-01-31|     6756.14|    6865.65|    6908.94|   6756.14|            8.645E7|0.008970933696929785|\n",
      "|2010-02-01|     6801.66|     6713.9|    6801.66|   6699.54|             5.49E7|0.006737575005846463|\n",
      "|2010-02-02|     6926.86|    6845.76|    6927.67|   6845.76|6.554000000000001E7| 0.01840727116615647|\n",
      "+----------+------------+-----------+-----------+----------+-------------------+--------------------+\n",
      "only showing top 20 rows\n",
      "\n"
     ]
    }
   ],
   "source": [
    "EGX_30_df.show()"
   ]
  },
  {
   "cell_type": "code",
   "execution_count": 38,
   "id": "31abed84-2119-4bf6-9336-4441a3ced1d4",
   "metadata": {},
   "outputs": [
    {
     "name": "stdout",
     "output_type": "stream",
     "text": [
      "Correlation between SP500 and EGX30: 0.7177698993251508\n"
     ]
    }
   ],
   "source": [
    "correlation = merged_df_inner_join.stat.corr(\"sp_500_Close\", \"EGX_30_Close\")\n",
    "print(f\"Correlation between SP500 and EGX30: {correlation}\")"
   ]
  },
  {
   "cell_type": "code",
   "execution_count": null,
   "id": "31d908f3-d561-4175-bc3e-a07915340b56",
   "metadata": {},
   "outputs": [],
   "source": []
  }
 ],
 "metadata": {
  "kernelspec": {
   "display_name": "Python (my_pyspark_env)",
   "language": "python",
   "name": "my_pyspark_env"
  },
  "language_info": {
   "codemirror_mode": {
    "name": "ipython",
    "version": 3
   },
   "file_extension": ".py",
   "mimetype": "text/x-python",
   "name": "python",
   "nbconvert_exporter": "python",
   "pygments_lexer": "ipython3",
   "version": "3.8.20"
  }
 },
 "nbformat": 4,
 "nbformat_minor": 5
}
