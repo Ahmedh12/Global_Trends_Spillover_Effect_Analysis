{
 "cells": [
  {
   "cell_type": "code",
   "execution_count": 1,
   "id": "de5f5d51-0aa1-40b4-b775-c077d3fd47ef",
   "metadata": {},
   "outputs": [],
   "source": [
    "import sys\n",
    "sys.path.append('..')"
   ]
  },
  {
   "cell_type": "code",
   "execution_count": 2,
   "id": "0bce146d-7e66-49e3-8391-87053c986398",
   "metadata": {},
   "outputs": [],
   "source": [
    "from data.util import *"
   ]
  },
  {
   "cell_type": "code",
   "execution_count": 3,
   "id": "aa00345d-c415-4e94-97d1-7f0143d6280c",
   "metadata": {},
   "outputs": [],
   "source": [
    "DATA_FOLDERS = [\n",
    "    \"../data/processed/dow_jones\",\n",
    "    \"../data/processed/ftse_100\",\n",
    "    \"../data/processed/nikkei_225\",\n",
    "    \"../data/processed/s&p_500\",\n",
    "    \"../data/processed/EGX_30\"\n",
    "]"
   ]
  },
  {
   "cell_type": "code",
   "execution_count": 30,
   "id": "937c230e-ba7a-4bd4-830e-471870345863",
   "metadata": {},
   "outputs": [],
   "source": [
    "df = load_data_from_folder(DATA_FOLDERS[1])"
   ]
  },
  {
   "cell_type": "code",
   "execution_count": 32,
   "id": "dee21df5-bd07-4a6e-81d8-77d7e3a4d15c",
   "metadata": {},
   "outputs": [
    {
     "name": "stdout",
     "output_type": "stream",
     "text": [
      "+-------+----------+-----------------+-----------------+-----------------+-----------------+-------------------+\n",
      "|summary|      Date|            Close|             High|              Low|             Open|             Volume|\n",
      "+-------+----------+-----------------+-----------------+-----------------+-----------------+-------------------+\n",
      "|  count|      3532|             3532|             3532|             3532|             3532|               3532|\n",
      "|   mean|      NULL|6669.900338368399|6709.226618489215| 6628.67605110419|6669.261408804767|8.080090285107588E8|\n",
      "| stddev|      NULL|731.7587723483483| 727.110689310151|737.3657394020474|731.8466185229412|2.743113968524896E8|\n",
      "|    min|2010-01-04|  4805.7998046875| 4863.39990234375|           4790.0|  4805.7998046875|        1.0000219E9|\n",
      "|    max|2023-12-29|  8014.2998046875| 8047.10009765625|           7995.5|  8014.2998046875|         9.999569E8|\n",
      "+-------+----------+-----------------+-----------------+-----------------+-----------------+-------------------+\n",
      "\n"
     ]
    }
   ],
   "source": [
    "df.describe().show()"
   ]
  },
  {
   "cell_type": "code",
   "execution_count": null,
   "id": "7fb10bfa-be94-49f6-a177-27cc3fcac07b",
   "metadata": {},
   "outputs": [],
   "source": []
  }
 ],
 "metadata": {
  "kernelspec": {
   "display_name": "Python (my_pyspark_env)",
   "language": "python",
   "name": "my_pyspark_env"
  },
  "language_info": {
   "codemirror_mode": {
    "name": "ipython",
    "version": 3
   },
   "file_extension": ".py",
   "mimetype": "text/x-python",
   "name": "python",
   "nbconvert_exporter": "python",
   "pygments_lexer": "ipython3",
   "version": "3.8.20"
  }
 },
 "nbformat": 4,
 "nbformat_minor": 5
}
