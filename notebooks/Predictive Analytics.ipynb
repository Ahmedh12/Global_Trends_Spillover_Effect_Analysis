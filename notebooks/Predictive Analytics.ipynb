{
 "cells": [
  {
   "cell_type": "code",
   "execution_count": 1,
   "id": "a17ad926-0be2-4c0e-ba8e-c0569a35ac08",
   "metadata": {},
   "outputs": [],
   "source": [
    "import sys\n",
    "sys.path.append('..')\n",
    "\n",
    "import numpy as np\n",
    "import matplotlib.pyplot as plt\n",
    "from statsmodels.tsa.stattools import grangercausalitytests\n",
    "\n",
    "from data.util import *\n",
    "from visualizer.utils import *\n",
    "\n",
    "from pyspark.sql import SparkSession\n",
    "from pyspark.sql.functions import col, lag, year, month, dayofmonth, dayofweek\n",
    "from pyspark.sql.window import Window\n",
    "from pyspark.ml.feature import VectorAssembler\n",
    "from pyspark.ml.regression import GBTRegressor\n",
    "from pyspark.ml.evaluation import RegressionEvaluator"
   ]
  },
  {
   "cell_type": "code",
   "execution_count": 2,
   "id": "6cb66ed5-0f49-469d-9fa5-fdc6e44050ca",
   "metadata": {},
   "outputs": [],
   "source": [
    "dow_johnes = load_data_from_folder(DATA_FOLDERS[0])\n",
    "ftse_100 = load_data_from_folder(DATA_FOLDERS[1])\n",
    "nikkei_225 = load_data_from_folder(DATA_FOLDERS[2])\n",
    "sp_500 = load_data_from_folder(DATA_FOLDERS[3])\n",
    "EGX_30 = load_data_from_folder(DATA_FOLDERS[4])\n",
    "\n",
    "dfs = {\n",
    "    Indices.dow_Jones.name  : dow_johnes,\n",
    "    Indices.ftse_100.name   : ftse_100,\n",
    "    Indices.nikkei_225.name : nikkei_225,\n",
    "    Indices.sp_500.name     : sp_500,\n",
    "    Indices.EGX_30.name     : EGX_30}"
   ]
  },
  {
   "cell_type": "code",
   "execution_count": 3,
   "id": "3d55ca9b-97e4-4919-833a-389f088805eb",
   "metadata": {},
   "outputs": [],
   "source": [
    "scaled_dfs = {}\n",
    "for df in dfs:\n",
    "    scaled_dfs[df] = dfs[df] \n",
    "    scaled_dfs[df] = cast_columns_to_double(scaled_dfs[df])\n",
    "    scaled_dfs[df] = rename_columns(scaled_dfs[df], df)\n",
    "    scaled_dfs[df] = scale_df(scaled_dfs[df], for_regression=True)"
   ]
  },
  {
   "cell_type": "code",
   "execution_count": 4,
   "id": "f4043c1f-873b-4df0-b2d8-296a70bb66be",
   "metadata": {},
   "outputs": [],
   "source": [
    "spark = SparkSession.builder \\\n",
    "    .appName(\"Time Series Regressors\") \\\n",
    "    .getOrCreate()"
   ]
  },
  {
   "cell_type": "code",
   "execution_count": 5,
   "id": "3c9d35ad-5149-4cee-8a08-f939622ead99",
   "metadata": {},
   "outputs": [],
   "source": [
    "window_spec = Window.orderBy(\"Date\")\n",
    "\n",
    "for df in scaled_dfs:\n",
    "    scaled_dfs[df] = scaled_dfs[df].withColumn(\"lag_1\", lag(\"scaled_features\", 1).over(window_spec)) \\\n",
    "        .withColumn(\"lag_2\", lag(\"scaled_features\", 2).over(window_spec)) \\\n",
    "        .withColumn(\"lag_3\", lag(\"scaled_features\", 3).over(window_spec)) \\\n",
    "        .withColumn(\"year\", year(\"Date\")) \\\n",
    "        .withColumn(\"month\", month(\"Date\")) \\\n",
    "        .withColumn(\"day_of_week\", dayofweek(\"Date\"))\n",
    "    \n",
    "    scaled_dfs[df] = scaled_dfs[df].na.drop()\n"
   ]
  },
  {
   "cell_type": "code",
   "execution_count": 6,
   "id": "6e6fab17-de51-4ab7-a332-768782791d54",
   "metadata": {},
   "outputs": [],
   "source": [
    "# for df in scaled_dfs:\n",
    "#     scaled_dfs[df] = scaled_dfs[df].select([\"scaled_features\", \"lag_1\", \"lag_2\", \"lag_3\", \"day_of_week\", \"month\", \"year\"])\n",
    "#     scaled_dfs[df].show(1)"
   ]
  },
  {
   "cell_type": "code",
   "execution_count": 7,
   "id": "8c9e16e7-d378-4bb8-ac2b-8339f623f91e",
   "metadata": {},
   "outputs": [],
   "source": [
    "train_data = {}\n",
    "test_data = {}\n",
    "\n",
    "for df in scaled_dfs:\n",
    "    train_data[df], test_data[df] = scaled_dfs[df].randomSplit([0.8, 0.2], seed=42)"
   ]
  },
  {
   "cell_type": "code",
   "execution_count": 15,
   "id": "ebc42470-2e1b-42af-ae38-7033526f8eaa",
   "metadata": {},
   "outputs": [
    {
     "name": "stdout",
     "output_type": "stream",
     "text": [
      "done training  dow_Jones\n",
      "done training  ftse_100\n",
      "done training  nikkei_225\n",
      "done training  sp_500\n",
      "done training  EGX_30\n"
     ]
    }
   ],
   "source": [
    "regressors = {}\n",
    "col = \"Close\"\n",
    "for df in scaled_dfs:\n",
    "    regressor = GBTRegressor(featuresCol=\"lag_3\", labelCol=f\"scaled_{df}_{col}\", maxIter=50, maxDepth=5)\n",
    "    regressors[df] = regressor.fit(train_data[df])\n",
    "    print(\"done training \", df)"
   ]
  },
  {
   "cell_type": "code",
   "execution_count": 17,
   "id": "1cabccca-2ed1-4e3f-b890-ba87002d7cbc",
   "metadata": {},
   "outputs": [
    {
     "name": "stdout",
     "output_type": "stream",
     "text": [
      "dow_Jones: (RMSE): 0.016115710547410553\t(MAE): 0.01104689318666235\t(R2): 0.9969077397491584\n",
      "ftse_100: (RMSE): 0.02835858167985211\t(MAE): 0.02052588130550631\t(R2): 0.9836018064698714\n",
      "nikkei_225: (RMSE): 0.01778223882675537\t(MAE): 0.012406645622243122\t(R2): 0.995756981864122\n",
      "sp_500: (RMSE): 0.013850882304350028\t(MAE): 0.009909838664639545\t(R2): 0.9977035193299577\n",
      "EGX_30: (RMSE): 0.02894637451862454\t(MAE): 0.016760926884972993\t(R2): 0.982560553287721\n"
     ]
    }
   ],
   "source": [
    "metrics = [\"rmse\", \"mae\", \"r2\"]\n",
    "values = {}\n",
    "for regressor in regressors:\n",
    "    evaluator = RegressionEvaluator(labelCol=f\"scaled_{regressor}_{col}\", predictionCol=\"prediction\")\n",
    "    predictions = regressors[regressor].transform(test_data[regressor])\n",
    "    for metric in metrics:\n",
    "        evaluator.setMetricName(metric)\n",
    "        values[metric] = evaluator.evaluate(predictions)\n",
    "    print(f\"{regressor}: (RMSE): {values[metrics[0]]}\\t(MAE): {values[metrics[1]]}\\t(R2): {values[metrics[2]]}\")"
   ]
  },
  {
   "cell_type": "code",
   "execution_count": 18,
   "id": "971f9cc8-38db-473b-b65e-0c836ff43ca5",
   "metadata": {},
   "outputs": [
    {
     "name": "stdout",
     "output_type": "stream",
     "text": [
      "dow_Jones: (RMSE): 0.03274996652948987\t(MAE): 0.02009319754595766\t(R2): 0.9776763055536416\n",
      "ftse_100: (RMSE): 0.04245085392415304\t(MAE): 0.02533133584553917\t(R2): 0.9624925784065674\n",
      "nikkei_225: (RMSE): 0.03856375108956568\t(MAE): 0.02357898142761276\t(R2): 0.9690469898137222\n",
      "sp_500: (RMSE): 0.03381252646464272\t(MAE): 0.020056276927975337\t(R2): 0.9762042392745091\n"
     ]
    }
   ],
   "source": [
    "metrics = [\"rmse\", \"mae\", \"r2\"]\n",
    "values = {}\n",
    "for regressor in regressors:\n",
    "    if regressor == \"EGX_30\":\n",
    "        continue\n",
    "        \n",
    "    evaluator = RegressionEvaluator(labelCol=f\"scaled_EGX_30_{col}\", predictionCol=\"prediction\")\n",
    "    predictions = regressors[regressor].transform(test_data[\"EGX_30\"])\n",
    "    for metric in metrics:\n",
    "        evaluator.setMetricName(metric)\n",
    "        values[metric] = evaluator.evaluate(predictions)\n",
    "    print(f\"{regressor}: (RMSE): {values[metrics[0]]}\\t(MAE): {values[metrics[1]]}\\t(R2): {values[metrics[2]]}\")"
   ]
  },
  {
   "cell_type": "code",
   "execution_count": null,
   "id": "1e8414fe-85df-4eef-a370-de86e158513b",
   "metadata": {},
   "outputs": [],
   "source": []
  }
 ],
 "metadata": {
  "kernelspec": {
   "display_name": "my_pyspark_env",
   "language": "python",
   "name": "python3"
  },
  "language_info": {
   "codemirror_mode": {
    "name": "ipython",
    "version": 3
   },
   "file_extension": ".py",
   "mimetype": "text/x-python",
   "name": "python",
   "nbconvert_exporter": "python",
   "pygments_lexer": "ipython3",
   "version": "3.9.20"
  }
 },
 "nbformat": 4,
 "nbformat_minor": 5
}
